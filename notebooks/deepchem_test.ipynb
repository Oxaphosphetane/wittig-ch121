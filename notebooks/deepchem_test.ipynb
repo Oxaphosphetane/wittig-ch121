{
 "cells": [
  {
   "cell_type": "markdown",
   "id": "1603f570-ca1f-4b3a-b1bb-8ed912c9cabc",
   "metadata": {},
   "source": [
    "### Step 1: Install and Import Dependencies"
   ]
  },
  {
   "cell_type": "code",
   "execution_count": 1,
   "id": "429e86aa-58fc-4c9e-bcae-eed9cb990db9",
   "metadata": {},
   "outputs": [],
   "source": [
    "# pip install dgl -f https://data.dgl.ai/wheels/repo.html\n",
    "# pip install dgllife\n",
    "# pip install tensorflow\n",
    "# pip install torch torchvision torchaudio"
   ]
  },
  {
   "cell_type": "markdown",
   "id": "0a93c7f9-581d-4157-9bca-e083e9730ead",
   "metadata": {},
   "source": [
    "### Step 2: Import Libraries"
   ]
  },
  {
   "cell_type": "code",
   "execution_count": 2,
   "id": "109e4562-748d-4db5-a9d3-d287f4f3d819",
   "metadata": {},
   "outputs": [
    {
     "name": "stdout",
     "output_type": "stream",
     "text": [
      "WARNING:tensorflow:From /opt/anaconda3/lib/python3.11/site-packages/tensorflow/python/util/deprecation.py:588: calling function (from tensorflow.python.eager.polymorphic_function.polymorphic_function) with experimental_relax_shapes is deprecated and will be removed in a future version.\n",
      "Instructions for updating:\n",
      "experimental_relax_shapes is deprecated, use reduce_retracing instead\n"
     ]
    },
    {
     "name": "stderr",
     "output_type": "stream",
     "text": [
      "Skipped loading modules with pytorch-geometric dependency, missing a dependency. No module named 'torch_geometric'\n",
      "Skipped loading modules with transformers dependency. No module named 'transformers'\n",
      "cannot import name 'HuggingFaceModel' from 'deepchem.models.torch_models' (/opt/anaconda3/lib/python3.11/site-packages/deepchem/models/torch_models/__init__.py)\n",
      "Skipped loading modules with pytorch-geometric dependency, missing a dependency. cannot import name 'DMPNN' from 'deepchem.models.torch_models' (/opt/anaconda3/lib/python3.11/site-packages/deepchem/models/torch_models/__init__.py)\n",
      "Skipped loading modules with pytorch-lightning dependency, missing a dependency. No module named 'lightning'\n",
      "Skipped loading some Jax models, missing a dependency. No module named 'jax'\n"
     ]
    }
   ],
   "source": [
    "import json\n",
    "import deepchem as dc\n",
    "import torch\n",
    "from rdkit import Chem\n",
    "from rdkit.Chem import AllChem\n",
    "from deepchem.feat import MolGraphConvFeaturizer\n",
    "from deepchem.models import GCNModel\n",
    "import numpy as np\n",
    "import matplotlib.pyplot as plt\n",
    "from sklearn.decomposition import PCA\n",
    "from rdkit.Chem import Draw"
   ]
  },
  {
   "cell_type": "code",
   "execution_count": 3,
   "id": "a1f89078-01ca-46ff-95b1-bc37306e52a3",
   "metadata": {},
   "outputs": [],
   "source": [
    "import os \n",
    "import sys\n",
    "\n",
    "# Get the current working directory\n",
    "current_dir = os.getcwd()\n",
    "\n",
    "# Get the parent directory\n",
    "parent_dir = os.path.abspath(os.path.join(current_dir, os.pardir))\n",
    "\n",
    "# Add the parent directory to the system path\n",
    "sys.path.insert(0, parent_dir)\n",
    "\n",
    "import os_navigation as os_nav"
   ]
  },
  {
   "cell_type": "markdown",
   "id": "f2b8056b-22bf-4e5b-9f08-cd1e3146376f",
   "metadata": {},
   "source": [
    "### Step 3: Load and Prepare Data"
   ]
  },
  {
   "cell_type": "code",
   "execution_count": 7,
   "id": "9be6227a-d7e2-409f-b567-09ab34328af4",
   "metadata": {},
   "outputs": [],
   "source": [
    "# Load JSON data\n",
    "data_path = os.path.join(os_nav.find_project_root(), 'data', 'all_dfs.json')\n",
    "\n",
    "with open(data_path, 'r') as f:\n",
    "    data = json.load(f)\n",
    "\n",
    "# Extract cis_pdt and trans_pdt compounds\n",
    "cis_smiles = [Chem.CanonSmiles(entry['cis_pdt']) for entry in data]\n",
    "trans_smiles = [Chem.CanonSmiles(entry['trans_pdt']) for entry in data]\n",
    "\n",
    "# Remove duplicates\n",
    "cis_smiles = list(set(cis_smiles))\n",
    "trans_smiles = list(set(trans_smiles))\n",
    "\n",
    "# Combine cis and trans SMILES for embedding\n",
    "all_smiles = cis_smiles + trans_smiles"
   ]
  },
  {
   "cell_type": "markdown",
   "id": "6b39b30b-3c16-445a-98a5-d04a009de6f7",
   "metadata": {},
   "source": [
    "### Step 4: Featurize the Data"
   ]
  },
  {
   "cell_type": "code",
   "execution_count": 8,
   "id": "8d6c3138-6581-4956-914a-5206949891fa",
   "metadata": {
    "scrolled": true
   },
   "outputs": [
    {
     "name": "stdout",
     "output_type": "stream",
     "text": [
      "Number of molecules: 908\n",
      "Feature shape: (30, 30), (2, 68)\n"
     ]
    }
   ],
   "source": [
    "# Featurize molecules\n",
    "featurizer = MolGraphConvFeaturizer(use_edges=True)\n",
    "X = featurizer.featurize(all_smiles)\n",
    "\n",
    "# Verify the featurized data\n",
    "print(f'Number of molecules: {len(X)}')\n",
    "print(f'Feature shape: {X[0].node_features.shape}, {X[0].edge_index.shape}')"
   ]
  },
  {
   "cell_type": "markdown",
   "id": "04f7419d-fae0-401b-9a09-532a2e7bacbd",
   "metadata": {},
   "source": [
    "### Step 5: Load a Pretrained GNN Model"
   ]
  },
  {
   "cell_type": "code",
   "execution_count": 6,
   "id": "9e31383f-3076-4d5f-abd2-4e9166b9a161",
   "metadata": {
    "scrolled": true
   },
   "outputs": [
    {
     "ename": "ValueError",
     "evalue": "No checkpoint found",
     "output_type": "error",
     "traceback": [
      "\u001b[0;31m---------------------------------------------------------------------------\u001b[0m",
      "\u001b[0;31mValueError\u001b[0m                                Traceback (most recent call last)",
      "Cell \u001b[0;32mIn[6], line 11\u001b[0m\n\u001b[1;32m      2\u001b[0m model \u001b[38;5;241m=\u001b[39m GCNModel(\n\u001b[1;32m      3\u001b[0m     n_tasks\u001b[38;5;241m=\u001b[39m\u001b[38;5;241m1\u001b[39m,\n\u001b[1;32m      4\u001b[0m     mode\u001b[38;5;241m=\u001b[39m\u001b[38;5;124m'\u001b[39m\u001b[38;5;124mregression\u001b[39m\u001b[38;5;124m'\u001b[39m,\n\u001b[0;32m   (...)\u001b[0m\n\u001b[1;32m      7\u001b[0m     model_dir\u001b[38;5;241m=\u001b[39m\u001b[38;5;124m'\u001b[39m\u001b[38;5;124mpretrained_gcn\u001b[39m\u001b[38;5;124m'\u001b[39m\n\u001b[1;32m      8\u001b[0m )\n\u001b[1;32m     10\u001b[0m \u001b[38;5;66;03m# Restore the model if pretrained weights are available\u001b[39;00m\n\u001b[0;32m---> 11\u001b[0m model\u001b[38;5;241m.\u001b[39mrestore()\n",
      "File \u001b[0;32m/opt/anaconda3/lib/python3.11/site-packages/deepchem/models/torch_models/torch_model.py:1076\u001b[0m, in \u001b[0;36mTorchModel.restore\u001b[0;34m(self, checkpoint, model_dir, strict)\u001b[0m\n\u001b[1;32m   1074\u001b[0m     checkpoints \u001b[38;5;241m=\u001b[39m \u001b[38;5;28msorted\u001b[39m(\u001b[38;5;28mself\u001b[39m\u001b[38;5;241m.\u001b[39mget_checkpoints(model_dir))\n\u001b[1;32m   1075\u001b[0m     \u001b[38;5;28;01mif\u001b[39;00m \u001b[38;5;28mlen\u001b[39m(checkpoints) \u001b[38;5;241m==\u001b[39m \u001b[38;5;241m0\u001b[39m:\n\u001b[0;32m-> 1076\u001b[0m         \u001b[38;5;28;01mraise\u001b[39;00m \u001b[38;5;167;01mValueError\u001b[39;00m(\u001b[38;5;124m'\u001b[39m\u001b[38;5;124mNo checkpoint found\u001b[39m\u001b[38;5;124m'\u001b[39m)\n\u001b[1;32m   1077\u001b[0m     checkpoint \u001b[38;5;241m=\u001b[39m checkpoints[\u001b[38;5;241m0\u001b[39m]\n\u001b[1;32m   1078\u001b[0m data \u001b[38;5;241m=\u001b[39m torch\u001b[38;5;241m.\u001b[39mload(checkpoint, map_location\u001b[38;5;241m=\u001b[39m\u001b[38;5;28mself\u001b[39m\u001b[38;5;241m.\u001b[39mdevice)\n",
      "\u001b[0;31mValueError\u001b[0m: No checkpoint found"
     ]
    }
   ],
   "source": [
    "# Load pretrained GCN model\n",
    "model = GCNModel(\n",
    "    n_tasks=1,\n",
    "    mode='regression',\n",
    "    batch_size=32,\n",
    "    learning_rate=0.001,\n",
    "    model_dir='pretrained_gcn'\n",
    ")\n",
    "\n",
    "# Restore the model if pretrained weights are available\n",
    "model.restore()"
   ]
  },
  {
   "cell_type": "markdown",
   "id": "36b5fe43-3b78-4b23-bb8d-8d9e301974ad",
   "metadata": {},
   "source": [
    "### Step 4: Featurize the Data"
   ]
  },
  {
   "cell_type": "code",
   "execution_count": null,
   "id": "612e9dd4-2dc2-4ea2-83f3-fd54dca68507",
   "metadata": {},
   "outputs": [],
   "source": [
    "# Featurize molecules\n",
    "featurizer = MolGraphConvFeaturizer(use_edges=True)\n",
    "X = featurizer.featurize(all_smiles)\n",
    "\n",
    "# Verify the featurized data\n",
    "print(f'Number of molecules: {len(X)}')\n",
    "print(f'Feature shape: {X[0].node_features.shape}, {X[0].edge_index.shape}')"
   ]
  }
 ],
 "metadata": {
  "kernelspec": {
   "display_name": "Python 3 (ipykernel)",
   "language": "python",
   "name": "python3"
  },
  "language_info": {
   "codemirror_mode": {
    "name": "ipython",
    "version": 3
   },
   "file_extension": ".py",
   "mimetype": "text/x-python",
   "name": "python",
   "nbconvert_exporter": "python",
   "pygments_lexer": "ipython3",
   "version": "3.11.7"
  }
 },
 "nbformat": 4,
 "nbformat_minor": 5
}
